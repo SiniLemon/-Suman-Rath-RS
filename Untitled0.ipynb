{
  "nbformat": 4,
  "nbformat_minor": 0,
  "metadata": {
    "colab": {
      "provenance": [],
      "authorship_tag": "ABX9TyNHocDU8DUD7bzPP1mFV1na",
      "include_colab_link": true
    },
    "kernelspec": {
      "name": "python3",
      "display_name": "Python 3"
    },
    "language_info": {
      "name": "python"
    }
  },
  "cells": [
    {
      "cell_type": "markdown",
      "metadata": {
        "id": "view-in-github",
        "colab_type": "text"
      },
      "source": [
        "<a href=\"https://colab.research.google.com/github/SiniLemon/-Suman-Rath-RS/blob/main/Untitled0.ipynb\" target=\"_parent\"><img src=\"https://colab.research.google.com/assets/colab-badge.svg\" alt=\"Open In Colab\"/></a>"
      ]
    },
    {
      "cell_type": "code",
      "execution_count": null,
      "metadata": {
        "id": "Z0-e7kk3qCam"
      },
      "outputs": [],
      "source": [
        "def deepest_nesting(lst):\n",
        "  stack=[(lst,1)]\n",
        "  max_depth=0\n",
        "\n",
        "  while stack:\n",
        "    current,depth=stack.pop()\n",
        "    if isinstance(current,list):\n",
        "      max_depth=max(max_depth, depth)\n",
        "      for item in current_element:\n",
        "        stack.append((item,current_depth+1))\n",
        "  return max_depth"
      ]
    },
    {
      "cell_type": "code",
      "source": [
        "import heapq\n",
        "\n",
        "def split_list_minimize_sum_diff(lst, k):\n",
        "    if k <= 0 or k > len(lst):\n",
        "        raise ValueError(\"k must be > 0 and <= length of the list\")\n",
        "\n",
        "\n",
        "    lst = sorted(lst, reverse=True)\n",
        "    sublists = [(0, i, []) for i in range(k)]\n",
        "    heapq.heapify(sublists)\n",
        "\n",
        "    for num in lst:\n",
        "        curr_sum, i, sublist = heapq.heappop(sublists)\n",
        "        sublist.append(num)\n",
        "        heapq.heappush(sublists, (curr_sum + num, i, sublist))\n",
        "\n",
        "    return [group for _, _, group in sorted(sublists, key=lambda x: x[1])]\n"
      ],
      "metadata": {
        "id": "yemQ7CemfxCt"
      },
      "execution_count": null,
      "outputs": []
    },
    {
      "cell_type": "code",
      "source": [
        "lst =[('a',1),('b',2),('a',3)]\n",
        "result={}\n",
        "for key,value in lst:\n",
        "  if key in result:\n",
        "    result[key].append(value)\n",
        "  else:\n",
        "      result[key]=[value]\n",
        "print(result)"
      ],
      "metadata": {
        "colab": {
          "base_uri": "https://localhost:8080/"
        },
        "id": "mjLS__Gjfw38",
        "outputId": "1609593b-ba4e-4313-f874-6805092eaea6"
      },
      "execution_count": null,
      "outputs": [
        {
          "output_type": "stream",
          "name": "stdout",
          "text": [
            "{'a': [1, 3], 'b': [2]}\n"
          ]
        }
      ]
    },
    {
      "cell_type": "code",
      "source": [
        "import random\n",
        "\n",
        "def shuffle_restricted(lst):\n",
        "  if len(lst)<=1:\n",
        "    raise ValueError(\"List must have at least two elements for a dearrangement.\")\n",
        "\n",
        "  while true:\n",
        "    shuffled=random.sample(lst,len(lst))\n",
        "    if all(original !=shuffled[i] for i,original in enumerate(lst)):\n",
        "     return shuffled"
      ],
      "metadata": {
        "id": "hoult3c3fwpT"
      },
      "execution_count": null,
      "outputs": []
    },
    {
      "cell_type": "code",
      "source": [
        "def compress_string(s):\n",
        "  if not s:\n",
        "    return\"\"\n",
        "\n",
        "  result=[]\n",
        "  count=1\n",
        "  prev_count=s[0]\n",
        "\n",
        "  for char in s[1:]:\n",
        "    if char==prev_char:\n",
        "      count+=1\n",
        "    else:\n",
        "      if count>=3:\n",
        "        result.append(f\"{prev_char}{count}\")\n",
        "      else:\n",
        "        result.append(prev_char*count)\n",
        "        prev_char=char\n",
        "        count=1\n",
        "\n",
        "    if count>=3:\n",
        "      result.append(f\"{prev_char}{count}\")\n",
        "    else:\n",
        "      result.append(prev_char*count)\n",
        "\n",
        "    return \"\".join(result)\n"
      ],
      "metadata": {
        "id": "zXMfGgnaqJb3"
      },
      "execution_count": null,
      "outputs": []
    },
    {
      "cell_type": "code",
      "source": [
        "def intersection_unique(list_1, list_2):\n",
        "  return list(set(list_1) & set(list_2))\n",
        "\n",
        "list_1=[1,2,3,4,5,5,6]\n",
        "list_2=[4,4,5,6,7]\n",
        "result=intersection_unique(list_1, list_2)\n",
        "print(result)"
      ],
      "metadata": {
        "colab": {
          "base_uri": "https://localhost:8080/"
        },
        "id": "2mkebVLXqJ-e",
        "outputId": "69032ca9-7e01-477b-b9d5-5dcd8a05beff"
      },
      "execution_count": null,
      "outputs": [
        {
          "output_type": "stream",
          "name": "stdout",
          "text": [
            "[4, 5, 6]\n"
          ]
        }
      ]
    },
    {
      "cell_type": "code",
      "source": [
        "def flatten_to_chars(nested_list):\n",
        "    result = []\n",
        "    for item in nested_list:\n",
        "        if isinstance(item, list):\n",
        "            result.extend(flatten_to_chars(item))\n",
        "        elif isinstance(item, str):\n",
        "            result.extend(item)\n",
        "        else:\n",
        "            raise TypeError(f\"Unsupported type: {type(item)}\")\n",
        "    return result\n",
        "\n",
        "nested = [\"abc\", \"def\", [\"ghi\", \"jkl\"]]\n",
        "flat = flatten_to_chars(nested)\n",
        "print(flat)\n"
      ],
      "metadata": {
        "colab": {
          "base_uri": "https://localhost:8080/"
        },
        "id": "EBsEY-kIxFyz",
        "outputId": "06281d9b-9c7b-4dbf-cfbf-9ad10477dc80"
      },
      "execution_count": null,
      "outputs": [
        {
          "output_type": "stream",
          "name": "stdout",
          "text": [
            "['a', 'b', 'c', 'd', 'e', 'f', 'g', 'h', 'i', 'j', 'k', 'l']\n"
          ]
        }
      ]
    },
    {
      "cell_type": "code",
      "source": [
        "def create_acronym(words):\n",
        "  return ''.join(word[0].upper() for word in words if word)\n",
        "words = [\"Federal\", \"Bureau\", \"Investigation\"]\n",
        "acronym = create_acronym(words)\n",
        "print(acronym)\n"
      ],
      "metadata": {
        "colab": {
          "base_uri": "https://localhost:8080/"
        },
        "id": "s_QVBaYNxGaC",
        "outputId": "7d45b643-7439-4276-9c78-1a34767383db"
      },
      "execution_count": null,
      "outputs": [
        {
          "output_type": "stream",
          "name": "stdout",
          "text": [
            "FBI\n"
          ]
        }
      ]
    },
    {
      "cell_type": "code",
      "source": [
        "def are_anagrams(str1, str2):\n",
        "\n",
        "    if len(str1) != len(str2):\n",
        "        return False\n",
        "\n",
        "\n",
        "    char_count = {}\n",
        "\n",
        "\n",
        "    for char in str1:\n",
        "        char_count[char] = char_count.get(char, 0) + 1\n",
        "\n",
        "\n",
        "    for char in str2:\n",
        "        if char not in char_count:\n",
        "            return False\n",
        "        char_count[char] -= 1\n",
        "        if char_count[char] < 0:\n",
        "            return False\n",
        "\n",
        "\n",
        "    return all(count == 0 for count in char_count.values())\n",
        "\n",
        "str1 = \"listen\"\n",
        "str2 = \"silent\"\n",
        "if are_anagrams(str1, str2):\n",
        "    print(f'\"{str1}\" and \"{str2}\" are anagrams.')\n",
        "else:\n",
        "    print(f'\"{str1}\" and \"{str2}\" are not anagrams.')\n"
      ],
      "metadata": {
        "colab": {
          "base_uri": "https://localhost:8080/"
        },
        "id": "4DfyXqcrxG_i",
        "outputId": "7f41008c-64b7-4e84-c01e-ebf1afcfd968"
      },
      "execution_count": null,
      "outputs": [
        {
          "output_type": "stream",
          "name": "stdout",
          "text": [
            "\"listen\" and \"silent\" are anagrams.\n"
          ]
        }
      ]
    },
    {
      "cell_type": "code",
      "source": [
        "def find_missing_no(arr):\n",
        "  n = len(arr)+1\n",
        "  expected_sum=n*(n+1)//2\n",
        "  actual_sum=sum(arr)\n",
        "  return expected_sum-actual_sum\n",
        "\n",
        "  arr=[1,2,4,5,6]\n",
        "  missing_no=find_missing_no(arr)\n",
        "  print(f\"The missing number is:{missing_no}\")\n"
      ],
      "metadata": {
        "id": "3e56HIvmB8CK"
      },
      "execution_count": null,
      "outputs": []
    },
    {
      "cell_type": "code",
      "source": [
        "import numpy as np\n",
        "even_no=np.arange(2,101,2)\n",
        "reversed_even_no=even_no[::-1]\n",
        "print(reversed_even_no)"
      ],
      "metadata": {
        "colab": {
          "base_uri": "https://localhost:8080/"
        },
        "id": "WcD5v8-xpIma",
        "outputId": "855c9b07-d8b0-49dd-9367-5a88cf39df0a"
      },
      "execution_count": 2,
      "outputs": [
        {
          "output_type": "stream",
          "name": "stdout",
          "text": [
            "[100  98  96  94  92  90  88  86  84  82  80  78  76  74  72  70  68  66\n",
            "  64  62  60  58  56  54  52  50  48  46  44  42  40  38  36  34  32  30\n",
            "  28  26  24  22  20  18  16  14  12  10   8   6   4   2]\n"
          ]
        }
      ]
    },
    {
      "cell_type": "code",
      "source": [
        "import numpy as np\n",
        "\n",
        "\n",
        "checkerboard = np.zeros((8, 8), dtype=int)\n",
        "\n",
        "\n",
        "for i in range(8):\n",
        "    for j in range(8):\n",
        "        if (i + j) % 2 == 0:\n",
        "            checkerboard[i, j] = 0\n",
        "        else:\n",
        "            checkerboard[i, j] = 1\n",
        "\n",
        "print(checkerboard)\n"
      ],
      "metadata": {
        "colab": {
          "base_uri": "https://localhost:8080/"
        },
        "id": "EMflKF_zpL61",
        "outputId": "2de09d43-fe36-4bba-c590-b215a801ee94"
      },
      "execution_count": 8,
      "outputs": [
        {
          "output_type": "stream",
          "name": "stdout",
          "text": [
            "[[0 1 0 1 0 1 0 1]\n",
            " [1 0 1 0 1 0 1 0]\n",
            " [0 1 0 1 0 1 0 1]\n",
            " [1 0 1 0 1 0 1 0]\n",
            " [0 1 0 1 0 1 0 1]\n",
            " [1 0 1 0 1 0 1 0]\n",
            " [0 1 0 1 0 1 0 1]\n",
            " [1 0 1 0 1 0 1 0]]\n"
          ]
        }
      ]
    },
    {
      "cell_type": "code",
      "source": [
        "import numpy as np\n",
        "diagonal_values=np.arange(1,6)\n",
        "new_matrix=np.diag(diagonal_values)\n",
        "print(new_matrix)\n"
      ],
      "metadata": {
        "colab": {
          "base_uri": "https://localhost:8080/"
        },
        "id": "dPJlD8Z7pL3E",
        "outputId": "1d46c87a-de25-4a9f-be3a-41daa6340d84"
      },
      "execution_count": 9,
      "outputs": [
        {
          "output_type": "stream",
          "name": "stdout",
          "text": [
            "[[1 0 0 0 0]\n",
            " [0 2 0 0 0]\n",
            " [0 0 3 0 0]\n",
            " [0 0 0 4 0]\n",
            " [0 0 0 0 5]]\n"
          ]
        }
      ]
    },
    {
      "cell_type": "code",
      "source": [
        "import numpy as np\n",
        "arr=np.random.randint(1,100,size=(5,5))\n",
        "\n",
        "print(\"Original array:\")\n",
        "print(arr)\n",
        "\n",
        "top_row=arr[0,:]\n",
        "bottom_row=arr[-1,:]\n",
        "left_column=arr[1:-1,0]\n",
        "right_column=arr[1:-1,-1]\n",
        "\n",
        "border_elements=np.concatenate([\n",
        "    top_row,\n",
        "    right_column,\n",
        "    bottom_row[::1],\n",
        "    left_column[::-1]\n",
        "])\n",
        "\n",
        "\n",
        "print(\"\\n Border elements:\")\n",
        "print(border_elements)\n",
        "\n"
      ],
      "metadata": {
        "colab": {
          "base_uri": "https://localhost:8080/"
        },
        "id": "39FhNhqYpLzz",
        "outputId": "156318df-87e7-4789-c4c6-53ff2fd5b4ef"
      },
      "execution_count": 11,
      "outputs": [
        {
          "output_type": "stream",
          "name": "stdout",
          "text": [
            "Original array:\n",
            "[[49 71 87 23 34]\n",
            " [15 18  4 42 13]\n",
            " [17 19 65 71 22]\n",
            " [22 79 63  4 38]\n",
            " [87  9 84 30 48]]\n",
            "\n",
            " Border elements:\n",
            "[49 71 87 23 34 13 22 38 87  9 84 30 48 22 17 15]\n"
          ]
        }
      ]
    },
    {
      "cell_type": "code",
      "source": [
        "import numpy as np\n",
        "arr=np.array([[1,2],[3,4],[1,2]])\n",
        "\n",
        "unique_rows=np.unique(arr,axis=0)\n",
        "print(\"Original array:\")\n",
        "print(arr)\n",
        "print(\"\\n Unique row:\")\n",
        "print(unique_rows)"
      ],
      "metadata": {
        "colab": {
          "base_uri": "https://localhost:8080/"
        },
        "id": "exvBgywnpLv9",
        "outputId": "1e56f3ac-763b-4eb7-ac74-150566982361"
      },
      "execution_count": 12,
      "outputs": [
        {
          "output_type": "stream",
          "name": "stdout",
          "text": [
            "Original array:\n",
            "[[1 2]\n",
            " [3 4]\n",
            " [1 2]]\n",
            "\n",
            " Unique row:\n",
            "[[1 2]\n",
            " [3 4]]\n"
          ]
        }
      ]
    },
    {
      "cell_type": "code",
      "source": [
        "def determinant_3x3(matrix):\n",
        "\n",
        "   a,b,c=matrix[0]\n",
        "   d,e,f=matrix[1]\n",
        "   g,h,i=matrix[2]\n",
        "\n",
        "   det=a*(e*i-f*h)-b*(d*i-f*g)+c*(d*h-e*g)\n",
        "   return det\n",
        "\n",
        "matrix=[\n",
        "    [1,2,3],\n",
        "    [9,5,7],\n",
        "    [3,4,8],\n",
        "]\n",
        "\n",
        "det=determinant_3x3(matrix)\n",
        "print(\"Determinant:\",det)\n",
        "\n"
      ],
      "metadata": {
        "colab": {
          "base_uri": "https://localhost:8080/"
        },
        "id": "rcQAykLspLrx",
        "outputId": "e6a5104d-e269-4078-a11a-0f4923be1064"
      },
      "execution_count": 20,
      "outputs": [
        {
          "output_type": "stream",
          "name": "stdout",
          "text": [
            "Determinant: -27\n"
          ]
        }
      ]
    },
    {
      "cell_type": "code",
      "source": [
        "import numpy as np\n",
        "\n",
        "arr = np.array([])\n",
        "\n",
        "\n",
        "arr = np.append(arr, [30, 40, 50])\n",
        "\n",
        "print(arr)\n"
      ],
      "metadata": {
        "colab": {
          "base_uri": "https://localhost:8080/"
        },
        "id": "VVNnxBIkpLmW",
        "outputId": "aee1dc6e-f719-4fdb-8227-c7d5517d948f"
      },
      "execution_count": 21,
      "outputs": [
        {
          "output_type": "stream",
          "name": "stdout",
          "text": [
            "[30. 40. 50.]\n"
          ]
        }
      ]
    },
    {
      "cell_type": "code",
      "source": [
        "import numpy as np\n",
        "\n",
        "arr = np.array([1, 2, 3])\n",
        "to_append = np.array([4, 5, 6])\n",
        "even_numbers = to_append[to_append % 2 == 0]\n",
        "\n",
        "result = np.append(arr, even_numbers)\n",
        "\n",
        "print(result)\n"
      ],
      "metadata": {
        "colab": {
          "base_uri": "https://localhost:8080/"
        },
        "id": "LSVQ51vspLc6",
        "outputId": "3f11ce57-4824-4671-f9db-ea273e31bf47"
      },
      "execution_count": 22,
      "outputs": [
        {
          "output_type": "stream",
          "name": "stdout",
          "text": [
            "[1 2 3 4 6]\n"
          ]
        }
      ]
    },
    {
      "cell_type": "code",
      "source": [
        "def cat_hat_equal(s):\n",
        "    return s.count('cat') == s.count('hat')\n",
        "\n",
        "print(cat_hat_equal(\"catinhat\"))\n",
        "print(cat_hat_equal(\"catinhatcat\"))\n"
      ],
      "metadata": {
        "colab": {
          "base_uri": "https://localhost:8080/"
        },
        "id": "qQIAIQ9F8Vic",
        "outputId": "21b27607-3d19-4562-cfc8-e128cddff8cf"
      },
      "execution_count": 23,
      "outputs": [
        {
          "output_type": "stream",
          "name": "stdout",
          "text": [
            "True\n",
            "False\n"
          ]
        }
      ]
    },
    {
      "cell_type": "code",
      "source": [
        "n = int(input(\"Enter the number of values to sum: \"))\n",
        "total = 0\n",
        "count = 0\n",
        "\n",
        "while count < n:\n",
        "    number = float(input(f\"Enter number {count + 1}: \"))\n",
        "    total += number\n",
        "    count += 1\n",
        "print(f\"The sum of the {n} numbers is: {total}\")\n"
      ],
      "metadata": {
        "colab": {
          "base_uri": "https://localhost:8080/"
        },
        "id": "LI388n2G8WQg",
        "outputId": "91986e6d-090c-434d-80a6-99105ce34fb9"
      },
      "execution_count": 25,
      "outputs": [
        {
          "output_type": "stream",
          "name": "stdout",
          "text": [
            "Enter the number of values to sum: 5\n",
            "Enter number 1: 33\n",
            "Enter number 2: 5\n",
            "Enter number 3: 56\n",
            "Enter number 4: 78\n",
            "Enter number 5: 0\n",
            "The sum of the 5 numbers is: 172.0\n"
          ]
        }
      ]
    }
  ]
}