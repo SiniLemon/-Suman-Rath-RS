{
  "nbformat": 4,
  "nbformat_minor": 0,
  "metadata": {
    "colab": {
      "provenance": [],
      "authorship_tag": "ABX9TyMCeNBUuWgdwotFfBoGKmJ/",
      "include_colab_link": true
    },
    "kernelspec": {
      "name": "python3",
      "display_name": "Python 3"
    },
    "language_info": {
      "name": "python"
    }
  },
  "cells": [
    {
      "cell_type": "markdown",
      "metadata": {
        "id": "view-in-github",
        "colab_type": "text"
      },
      "source": [
        "<a href=\"https://colab.research.google.com/github/SiniLemon/-Suman-Rath-RS/blob/main/Untitled0.ipynb\" target=\"_parent\"><img src=\"https://colab.research.google.com/assets/colab-badge.svg\" alt=\"Open In Colab\"/></a>"
      ]
    },
    {
      "cell_type": "code",
      "execution_count": 4,
      "metadata": {
        "id": "Z0-e7kk3qCam"
      },
      "outputs": [],
      "source": [
        "def deepest_nesting(lst):\n",
        "  stack=[(lst,1)]\n",
        "  max_depth=0\n",
        "\n",
        "  while stack:\n",
        "    current,depth=stack.pop()\n",
        "    if isinstance(current,list):\n",
        "      max_depth=max(max_depth, depth)\n",
        "      for item in current_element:\n",
        "        stack.append((item,current_depth+1))\n",
        "  return max_depth"
      ]
    },
    {
      "cell_type": "code",
      "source": [
        "import heapq\n",
        "\n",
        "def split_list_minimize_sum_diff(lst, k):\n",
        "    if k <= 0 or k > len(lst):\n",
        "        raise ValueError(\"k must be > 0 and <= length of the list\")\n",
        "\n",
        "\n",
        "    lst = sorted(lst, reverse=True)\n",
        "    sublists = [(0, i, []) for i in range(k)]\n",
        "    heapq.heapify(sublists)\n",
        "\n",
        "    for num in lst:\n",
        "        curr_sum, i, sublist = heapq.heappop(sublists)\n",
        "        sublist.append(num)\n",
        "        heapq.heappush(sublists, (curr_sum + num, i, sublist))\n",
        "\n",
        "    return [group for _, _, group in sorted(sublists, key=lambda x: x[1])]\n"
      ],
      "metadata": {
        "id": "yemQ7CemfxCt"
      },
      "execution_count": 7,
      "outputs": []
    },
    {
      "cell_type": "code",
      "source": [
        "lst =[('a',1),('b',2),('a',3)]\n",
        "result={}\n",
        "for key,value in lst:\n",
        "  if key in result:\n",
        "    result[key].append(value)\n",
        "  else:\n",
        "      result[key]=[value]\n",
        "print(result)"
      ],
      "metadata": {
        "colab": {
          "base_uri": "https://localhost:8080/"
        },
        "id": "mjLS__Gjfw38",
        "outputId": "1609593b-ba4e-4313-f874-6805092eaea6"
      },
      "execution_count": 13,
      "outputs": [
        {
          "output_type": "stream",
          "name": "stdout",
          "text": [
            "{'a': [1, 3], 'b': [2]}\n"
          ]
        }
      ]
    },
    {
      "cell_type": "code",
      "source": [
        "import random\n",
        "\n",
        "def shuffle_restricted(lst):\n",
        "  if len(lst)<=1:\n",
        "    raise ValueError(\"List must have at least two elements for a dearrangement.\")\n",
        "\n",
        "  while true:\n",
        "    shuffled=random.sample(lst,len(lst))\n",
        "    if all(original !=shuffled[i] for i,original in enumerate(lst)):\n",
        "     return shuffled"
      ],
      "metadata": {
        "id": "hoult3c3fwpT"
      },
      "execution_count": 15,
      "outputs": []
    },
    {
      "cell_type": "code",
      "source": [
        "def compress_string(s):\n",
        "  if not s:\n",
        "    return\"\"\n",
        "\n",
        "  result=[]\n",
        "  count=1\n",
        "  prev_count=s[0]\n",
        "\n",
        "  for char in s[1:]:\n",
        "    if char==prev_char:\n",
        "      count+=1\n",
        "    else:\n",
        "      if count>=3:\n",
        "        result.append(f\"{prev_char}{count}\")\n",
        "      else:\n",
        "        result.append(prev_char*count)\n",
        "        prev_char=char\n",
        "        count=1\n",
        "\n",
        "    if count>=3:\n",
        "      result.append(f\"{prev_char}{count}\")\n",
        "    else:\n",
        "      result.append(prev_char*count)\n",
        "\n",
        "    return \"\".join(result)\n"
      ],
      "metadata": {
        "id": "zXMfGgnaqJb3"
      },
      "execution_count": 18,
      "outputs": []
    },
    {
      "cell_type": "code",
      "source": [
        "def intersection_unique(list_1, list_2):\n",
        "  return list(set(list_1) & set(list_2))\n",
        "\n",
        "list_1=[1,2,3,4,5,5,6]\n",
        "list_2=[4,4,5,6,7]\n",
        "result=intersection_unique(list_1, list_2)\n",
        "print(result)"
      ],
      "metadata": {
        "colab": {
          "base_uri": "https://localhost:8080/"
        },
        "id": "2mkebVLXqJ-e",
        "outputId": "69032ca9-7e01-477b-b9d5-5dcd8a05beff"
      },
      "execution_count": 23,
      "outputs": [
        {
          "output_type": "stream",
          "name": "stdout",
          "text": [
            "[4, 5, 6]\n"
          ]
        }
      ]
    },
    {
      "cell_type": "code",
      "source": [
        "def flatten_to_chars(nested_list):\n",
        "    result = []\n",
        "    for item in nested_list:\n",
        "        if isinstance(item, list):\n",
        "            result.extend(flatten_to_chars(item))\n",
        "        elif isinstance(item, str):\n",
        "            result.extend(item)\n",
        "        else:\n",
        "            raise TypeError(f\"Unsupported type: {type(item)}\")\n",
        "    return result\n",
        "\n",
        "nested = [\"abc\", \"def\", [\"ghi\", \"jkl\"]]\n",
        "flat = flatten_to_chars(nested)\n",
        "print(flat)\n"
      ],
      "metadata": {
        "colab": {
          "base_uri": "https://localhost:8080/"
        },
        "id": "EBsEY-kIxFyz",
        "outputId": "06281d9b-9c7b-4dbf-cfbf-9ad10477dc80"
      },
      "execution_count": 24,
      "outputs": [
        {
          "output_type": "stream",
          "name": "stdout",
          "text": [
            "['a', 'b', 'c', 'd', 'e', 'f', 'g', 'h', 'i', 'j', 'k', 'l']\n"
          ]
        }
      ]
    },
    {
      "cell_type": "code",
      "source": [
        "def create_acronym(words):\n",
        "  return ''.join(word[0].upper() for word in words if word)\n",
        "words = [\"Federal\", \"Bureau\", \"Investigation\"]\n",
        "acronym = create_acronym(words)\n",
        "print(acronym)\n"
      ],
      "metadata": {
        "colab": {
          "base_uri": "https://localhost:8080/"
        },
        "id": "s_QVBaYNxGaC",
        "outputId": "7d45b643-7439-4276-9c78-1a34767383db"
      },
      "execution_count": 28,
      "outputs": [
        {
          "output_type": "stream",
          "name": "stdout",
          "text": [
            "FBI\n"
          ]
        }
      ]
    },
    {
      "cell_type": "code",
      "source": [
        "def are_anagrams(str1, str2):\n",
        "\n",
        "    if len(str1) != len(str2):\n",
        "        return False\n",
        "\n",
        "\n",
        "    char_count = {}\n",
        "\n",
        "\n",
        "    for char in str1:\n",
        "        char_count[char] = char_count.get(char, 0) + 1\n",
        "\n",
        "\n",
        "    for char in str2:\n",
        "        if char not in char_count:\n",
        "            return False\n",
        "        char_count[char] -= 1\n",
        "        if char_count[char] < 0:\n",
        "            return False\n",
        "\n",
        "\n",
        "    return all(count == 0 for count in char_count.values())\n",
        "\n",
        "str1 = \"listen\"\n",
        "str2 = \"silent\"\n",
        "if are_anagrams(str1, str2):\n",
        "    print(f'\"{str1}\" and \"{str2}\" are anagrams.')\n",
        "else:\n",
        "    print(f'\"{str1}\" and \"{str2}\" are not anagrams.')\n"
      ],
      "metadata": {
        "colab": {
          "base_uri": "https://localhost:8080/"
        },
        "id": "4DfyXqcrxG_i",
        "outputId": "7f41008c-64b7-4e84-c01e-ebf1afcfd968"
      },
      "execution_count": 34,
      "outputs": [
        {
          "output_type": "stream",
          "name": "stdout",
          "text": [
            "\"listen\" and \"silent\" are anagrams.\n"
          ]
        }
      ]
    },
    {
      "cell_type": "code",
      "source": [
        "def find_missing_no(arr):\n",
        "  n = len(arr)+1\n",
        "  expected_sum=n*(n+1)//2\n",
        "  actual_sum=sum(arr)\n",
        "  return expected_sum-actual_sum\n",
        "\n",
        "  arr=[1,2,4,5,6]\n",
        "  missing_no=find_missing_no(arr)\n",
        "  print(f\"The missing number is:{missing_no}\")\n"
      ],
      "metadata": {
        "id": "3e56HIvmB8CK"
      },
      "execution_count": 36,
      "outputs": []
    }
  ]
}